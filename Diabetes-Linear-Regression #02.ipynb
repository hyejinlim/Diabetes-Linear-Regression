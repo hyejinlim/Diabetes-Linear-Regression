{
 "cells": [
  {
   "cell_type": "markdown",
   "id": "quarterly-commonwealth",
   "metadata": {},
   "source": [
    "### Polynomial Regression의 degree 변화에 따른 모델 성능"
   ]
  },
  {
   "cell_type": "code",
   "execution_count": 1,
   "id": "transsexual-billy",
   "metadata": {},
   "outputs": [
    {
     "name": "stdout",
     "output_type": "stream",
     "text": [
      "# Linear Regression (degree = 1)\n",
      "  mae  = 44.618\n",
      "  rmse = 55.652\n",
      "  r2   = 0.393\n",
      "\n",
      "# Linear Regression (degree = 2)\n",
      "  mae  = 49.987\n",
      "  rmse = 62.866\n",
      "  r2   = 0.225\n",
      "\n",
      "# Linear Regression (degree = 3)\n",
      "  mae  = 368.707\n",
      "  rmse = 994.958\n",
      "  r2   = -193.049\n",
      "\n",
      "# Linear Regression (degree = 4)\n",
      "  mae  = 199.926\n",
      "  rmse = 346.614\n",
      "  r2   = -22.550\n",
      "\n"
     ]
    }
   ],
   "source": [
    "# Polynomial Regression 학습을 위한 라이브러리 로드\n",
    "from sklearn.linear_model import LinearRegression\n",
    "from sklearn.datasets import load_diabetes\n",
    "from sklearn.model_selection import train_test_split\n",
    "from sklearn.preprocessing import PolynomialFeatures\n",
    "from sklearn.pipeline import Pipeline\n",
    "from sklearn.metrics import mean_squared_error, mean_absolute_error, r2_score\n",
    "\n",
    "# 당뇨병 데이터셋 로드\n",
    "diabetes = load_diabetes()\n",
    "\n",
    "X_trn, X_test, y_trn, y_test = train_test_split(diabetes[\"data\"], diabetes[\"target\"], test_size=0.3, random_state=0)\n",
    "\n",
    "# 학습 결과 평가\n",
    "def get_metrics(y_test, y_pred):\n",
    "    mae = mean_absolute_error(y_test, y_pred)\n",
    "    rmse = mean_squared_error(y_test, y_pred, squared=False)\n",
    "    r2 = r2_score(y_test, y_pred)\n",
    "    \n",
    "    return mae, rmse, r2\n",
    "\n",
    "# 주어진 데이터셋과 degree에 대해서 Polynomial Regression 수행\n",
    "def gen_poly_prediction(X_trn, X_test, y_trn, degree):\n",
    "    pipeline = Pipeline([\n",
    "        ('poly',PolynomialFeatures(degree = degree)),\n",
    "        ('linear_reg', LinearRegression())\n",
    "    ])\n",
    "    \n",
    "    pipeline.fit(X_trn, y_trn)\n",
    "    y_pred = pipeline.predict(X_test)\n",
    "    \n",
    "    return y_pred\n",
    "\n",
    "# 학습 및 결과 출력\n",
    "degrees = [1, 2, 3, 4]\n",
    "\n",
    "for d in degrees:\n",
    "    y_pred = gen_poly_prediction(X_trn, X_test, y_trn, d)\n",
    "\n",
    "    mae_lr, rmse_lr, r2_lr = get_metrics(y_test, y_pred)\n",
    "\n",
    "    print(f\"# Linear Regression (degree = {d})\")\n",
    "    print(f\"  mae  = {mae_lr:0.3f}\")\n",
    "    print(f\"  rmse = {rmse_lr:0.3f}\")\n",
    "    print(f\"  r2   = {r2_lr:0.3f}\")\n",
    "    print()"
   ]
  },
  {
   "cell_type": "code",
   "execution_count": null,
   "id": "capable-resident",
   "metadata": {},
   "outputs": [],
   "source": []
  }
 ],
 "metadata": {
  "kernelspec": {
   "display_name": "Python 3",
   "language": "python",
   "name": "python3"
  },
  "language_info": {
   "codemirror_mode": {
    "name": "ipython",
    "version": 3
   },
   "file_extension": ".py",
   "mimetype": "text/x-python",
   "name": "python",
   "nbconvert_exporter": "python",
   "pygments_lexer": "ipython3",
   "version": "3.7.6"
  }
 },
 "nbformat": 4,
 "nbformat_minor": 5
}
